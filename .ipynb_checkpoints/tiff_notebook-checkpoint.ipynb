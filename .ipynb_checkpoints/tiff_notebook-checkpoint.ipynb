{
 "cells": [
  {
   "cell_type": "code",
   "execution_count": 333,
   "metadata": {
    "collapsed": true
   },
   "outputs": [],
   "source": [
    "import numpy as np\n",
    "import pandas as pd\n",
    "import matplotlib.pyplot as plt\n",
    "# from mpl_toolkits.basemap import Basemap as Basemap\n",
    "# from matplotlib.colors import rgb2hex\n",
    "# from matplotlib.patches import Polygon"
   ]
  },
  {
   "cell_type": "code",
   "execution_count": 334,
   "metadata": {
    "collapsed": true
   },
   "outputs": [],
   "source": [
    "df_num_guns = pd.read_csv('num_of_registered_firearms_per_state.csv')"
   ]
  },
  {
   "cell_type": "code",
   "execution_count": 335,
   "metadata": {
    "collapsed": true
   },
   "outputs": [],
   "source": [
    "# df_num_guns = df_num_guns.drop('Unnamed: 2', axis = 1)"
   ]
  },
  {
   "cell_type": "code",
   "execution_count": 336,
   "metadata": {
    "collapsed": true
   },
   "outputs": [],
   "source": [
    "df_nics = pd.read_csv('nics-firearm-background-checks.csv')"
   ]
  },
  {
   "cell_type": "code",
   "execution_count": 337,
   "metadata": {
    "collapsed": true
   },
   "outputs": [],
   "source": [
    "df_pop = pd.read_csv('2017_population.csv')"
   ]
  },
  {
   "cell_type": "code",
   "execution_count": 338,
   "metadata": {
    "collapsed": true
   },
   "outputs": [],
   "source": [
    "df_pop.columns = ['States','Population 2017']"
   ]
  },
  {
   "cell_type": "code",
   "execution_count": 339,
   "metadata": {
    "collapsed": true
   },
   "outputs": [],
   "source": [
    "df_pop = df_pop.dropna()\n",
    "df_pop = df_pop.drop(df_pop.index[51])\n",
    "df_num_guns = df_num_guns.sort_values('States')\n",
    "df_pop = df_pop.sort_values('States')\n"
   ]
  },
  {
   "cell_type": "code",
   "execution_count": 340,
   "metadata": {
    "collapsed": true
   },
   "outputs": [],
   "source": [
    "df_pop.columns = ['States', 'Population 2017']\n",
    "# df_pop_temp = df_pop['Population 2017'].replace(',','')\n",
    "# df_pop_temp\n",
    "\n",
    "# pd.to_numeric(df_pop['Population 2017'])\n",
    "# pd.to_numeric(df_num_guns['Number of registered weapons'])\n",
    "df_pop['Population 2017'] = df_pop['Population 2017'].astype(int)\n",
    "df_num_guns['Number of registered weapons'] = df_num_guns['Number of registered weapons'].astype(int)\n",
    "df_pop['States'] = df_pop['States'].astype(str)\n",
    "df_num_guns['States'] = df_num_guns['States'].astype(str)"
   ]
  },
  {
   "cell_type": "code",
   "execution_count": 341,
   "metadata": {
    "collapsed": true
   },
   "outputs": [],
   "source": [
    "df_pop['Num_weapons'] = df_num_guns['Number of registered weapons']"
   ]
  },
  {
   "cell_type": "code",
   "execution_count": 342,
   "metadata": {
    "collapsed": true
   },
   "outputs": [],
   "source": [
    "df_pop['Percentage'] = (df_pop['Num_weapons']/df_pop['Population 2017'])*100"
   ]
  },
  {
   "cell_type": "code",
   "execution_count": 343,
   "metadata": {
    "collapsed": true
   },
   "outputs": [],
   "source": [
    "df_small = pd.DataFrame(columns=['States', 'Gun_Percent*1000'])\n",
    "df_small = df_small.fillna(0)\n",
    "df_small['States'] = df_pop['States']\n",
    "df_small['Gun_Percent*1000'] = df_pop['Percentage']*10\n",
    "# df_small.plot.hist(alpha = 0.5)\n",
    "# plt.xlabel('State')\n",
    "# plt.ylabel('Percent')\n",
    "\n",
    "# plt.show()"
   ]
  },
  {
   "cell_type": "code",
   "execution_count": 344,
   "metadata": {},
   "outputs": [
    {
     "data": {
      "image/png": "[encoded data removed]",
      "text/plain": [
       "<matplotlib.figure.Figure at 0x1107e6be0>"
      ]
     },
     "metadata": {},
     "output_type": "display_data"
    }
   ],
   "source": [
    "x = df_small['States']\n",
    "y = df_small['Gun_Percent*1000']\n",
    "\n",
    "plt.bar(x,y, width=0.6, align='center') # A bar chart\n",
    "plt.xlabel('States')\n",
    "plt.xticks(rotation=90)\n",
    "plt.ylabel('Gun Percent')\n",
    "plt.show()"
   ]
  },
  {
   "cell_type": "code",
   "execution_count": 345,
   "metadata": {
    "collapsed": true
   },
   "outputs": [],
   "source": [
    "df_num_laws = pd.read_csv('Gun_laws.csv')"
   ]
  },
  {
   "cell_type": "code",
   "execution_count": 346,
   "metadata": {
    "collapsed": true
   },
   "outputs": [],
   "source": [
    "df_num_laws.columns = ['states', 'laws', 'handguns']"
   ]
  },
  {
   "cell_type": "code",
   "execution_count": 347,
   "metadata": {
    "collapsed": true
   },
   "outputs": [],
   "source": [
    "df_num_laws.drop(df_num_laws.index[0], inplace=True)\n",
    "df_num_laws['states'].fillna('state', inplace = True)"
   ]
  },
  {
   "cell_type": "code",
   "execution_count": 348,
   "metadata": {
    "collapsed": true
   },
   "outputs": [],
   "source": [
    "for i, state in df_num_laws.iterrows():\n",
    "    if state[0] == \"state\":\n",
    "        df_num_laws.states[i] = df_num_laws.states[i-1]"
   ]
  },
  {
   "cell_type": "code",
   "execution_count": 349,
   "metadata": {
    "collapsed": true
   },
   "outputs": [],
   "source": [
    "df_num_laws = df_num_laws[(df_num_laws['handguns'] == 'Yes') | (df_num_laws['handguns'] == 'yes')]"
   ]
  },
  {
   "cell_type": "code",
   "execution_count": 350,
   "metadata": {
    "collapsed": true
   },
   "outputs": [],
   "source": [
    "df_law_count = df_num_laws.groupby('states').count()"
   ]
  },
  {
   "cell_type": "code",
   "execution_count": 351,
   "metadata": {
    "collapsed": true
   },
   "outputs": [],
   "source": [
    "# df_law_count"
   ]
  },
  {
   "cell_type": "code",
   "execution_count": 352,
   "metadata": {},
   "outputs": [
    {
     "data": {
      "image/png": "[encoded data removed]",
      "text/plain": [
       "<matplotlib.figure.Figure at 0x1105da198>"
      ]
     },
     "metadata": {},
     "output_type": "display_data"
    }
   ],
   "source": [
    "x = df_law_count.index\n",
    "y = df_law_count['laws']\n",
    "\n",
    "plt.bar(x,y, width=0.6, align='center')\n",
    "plt.xlabel('States')\n",
    "plt.xticks(rotation=90)\n",
    "plt.ylabel('Num of Laws')\n",
    "plt.show()"
   ]
  },
  {
   "cell_type": "code",
   "execution_count": 353,
   "metadata": {},
   "outputs": [
    {
     "data": {
      "image/png": "[encoded data removed]",
      "text/plain": [
       "<matplotlib.figure.Figure at 0x110634710>"
      ]
     },
     "metadata": {},
     "output_type": "display_data"
    }
   ],
   "source": [
    "x = df_law_count['laws']\n",
    "y = df_small['Gun_Percent*1000']\n",
    "plt.scatter(x, y)\n",
    "plt.show()"
   ]
  },
  {
   "cell_type": "code",
   "execution_count": 354,
   "metadata": {
    "collapsed": true
   },
   "outputs": [],
   "source": [
    "df_shootings = pd.read_csv('mass shootings.csv')"
   ]
  },
  {
   "cell_type": "code",
   "execution_count": 358,
   "metadata": {
    "collapsed": true
   },
   "outputs": [],
   "source": [
    "df_shootings = df_shootings[['Location', 'Date','Year']]"
   ]
  },
  {
   "cell_type": "code",
   "execution_count": 359,
   "metadata": {},
   "outputs": [
    {
     "data": {
      "text/html": [
       "<div>\n",
       "<style>\n",
       "    .dataframe thead tr:only-child th {\n",
       "        text-align: right;\n",
       "    }\n",
       "\n",
       "    .dataframe thead th {\n",
       "        text-align: left;\n",
       "    }\n",
       "\n",
       "    .dataframe tbody tr th {\n",
       "        vertical-align: top;\n",
       "    }\n",
       "</style>\n",
       "<table border=\"1\" class=\"dataframe\">\n",
       "  <thead>\n",
       "    <tr style=\"text-align: right;\">\n",
       "      <th></th>\n",
       "      <th>Location</th>\n",
       "      <th>Date</th>\n",
       "      <th>Year</th>\n",
       "    </tr>\n",
       "  </thead>\n",
       "  <tbody>\n",
       "    <tr>\n",
       "      <th>0</th>\n",
       "      <td>Yountville, CA</td>\n",
       "      <td>3/9/18</td>\n",
       "      <td>2018</td>\n",
       "    </tr>\n",
       "    <tr>\n",
       "      <th>1</th>\n",
       "      <td>Parkland, Florida</td>\n",
       "      <td>2/14/18</td>\n",
       "      <td>2018</td>\n",
       "    </tr>\n",
       "    <tr>\n",
       "      <th>2</th>\n",
       "      <td>Melcroft, PA</td>\n",
       "      <td>1/28/18</td>\n",
       "      <td>2018</td>\n",
       "    </tr>\n",
       "    <tr>\n",
       "      <th>3</th>\n",
       "      <td>Rancho Tehama, CA</td>\n",
       "      <td>11/14/17</td>\n",
       "      <td>2017</td>\n",
       "    </tr>\n",
       "    <tr>\n",
       "      <th>4</th>\n",
       "      <td>Sutherland Springs, TX</td>\n",
       "      <td>11/5/17</td>\n",
       "      <td>2017</td>\n",
       "    </tr>\n",
       "    <tr>\n",
       "      <th>5</th>\n",
       "      <td>Thornton, CO</td>\n",
       "      <td>11/1/17</td>\n",
       "      <td>2017</td>\n",
       "    </tr>\n",
       "    <tr>\n",
       "      <th>6</th>\n",
       "      <td>Edgewood, MD</td>\n",
       "      <td>10/18/17</td>\n",
       "      <td>2017</td>\n",
       "    </tr>\n",
       "    <tr>\n",
       "      <th>7</th>\n",
       "      <td>Las Vegas, NV</td>\n",
       "      <td>10/1/17</td>\n",
       "      <td>2017</td>\n",
       "    </tr>\n",
       "    <tr>\n",
       "      <th>8</th>\n",
       "      <td>San Francisco, CA</td>\n",
       "      <td>6/14/17</td>\n",
       "      <td>2017</td>\n",
       "    </tr>\n",
       "    <tr>\n",
       "      <th>9</th>\n",
       "      <td>Tunkhannock, PA</td>\n",
       "      <td>6/7/17</td>\n",
       "      <td>2017</td>\n",
       "    </tr>\n",
       "    <tr>\n",
       "      <th>10</th>\n",
       "      <td>Orlando, Florida</td>\n",
       "      <td>6/5/2017</td>\n",
       "      <td>2017</td>\n",
       "    </tr>\n",
       "    <tr>\n",
       "      <th>11</th>\n",
       "      <td>Kirkersville, Ohio</td>\n",
       "      <td>5/12/2017</td>\n",
       "      <td>2017</td>\n",
       "    </tr>\n",
       "    <tr>\n",
       "      <th>12</th>\n",
       "      <td>Fresno, California</td>\n",
       "      <td>4/18/2017</td>\n",
       "      <td>2017</td>\n",
       "    </tr>\n",
       "    <tr>\n",
       "      <th>13</th>\n",
       "      <td>Fort Lauderdale, Florida</td>\n",
       "      <td>1/6/2017</td>\n",
       "      <td>2017</td>\n",
       "    </tr>\n",
       "    <tr>\n",
       "      <th>14</th>\n",
       "      <td>Burlington, WA</td>\n",
       "      <td>9/23/2016</td>\n",
       "      <td>2016</td>\n",
       "    </tr>\n",
       "    <tr>\n",
       "      <th>15</th>\n",
       "      <td>Baton Rouge, LA</td>\n",
       "      <td>7/17/2016</td>\n",
       "      <td>2016</td>\n",
       "    </tr>\n",
       "    <tr>\n",
       "      <th>16</th>\n",
       "      <td>Dallas, Texas</td>\n",
       "      <td>7/7/2016</td>\n",
       "      <td>2016</td>\n",
       "    </tr>\n",
       "    <tr>\n",
       "      <th>17</th>\n",
       "      <td>Orlando, Florida</td>\n",
       "      <td>6/12/2016</td>\n",
       "      <td>2016</td>\n",
       "    </tr>\n",
       "    <tr>\n",
       "      <th>18</th>\n",
       "      <td>Hesston, Kansas</td>\n",
       "      <td>2/25/2016</td>\n",
       "      <td>2016</td>\n",
       "    </tr>\n",
       "    <tr>\n",
       "      <th>19</th>\n",
       "      <td>Kalamazoo County, Michigan</td>\n",
       "      <td>2/20/2016</td>\n",
       "      <td>2016</td>\n",
       "    </tr>\n",
       "    <tr>\n",
       "      <th>20</th>\n",
       "      <td>San Bernardino, California</td>\n",
       "      <td>12/2/2015</td>\n",
       "      <td>2015</td>\n",
       "    </tr>\n",
       "    <tr>\n",
       "      <th>21</th>\n",
       "      <td>Colorado Springs, Colorado</td>\n",
       "      <td>11/27/2015</td>\n",
       "      <td>2015</td>\n",
       "    </tr>\n",
       "    <tr>\n",
       "      <th>22</th>\n",
       "      <td>Colorado Springs, Colorado</td>\n",
       "      <td>10/31/2015</td>\n",
       "      <td>2015</td>\n",
       "    </tr>\n",
       "    <tr>\n",
       "      <th>23</th>\n",
       "      <td>Roseburg, Oregon</td>\n",
       "      <td>10/1/2015</td>\n",
       "      <td>2015</td>\n",
       "    </tr>\n",
       "    <tr>\n",
       "      <th>24</th>\n",
       "      <td>Chattanooga, Tennessee</td>\n",
       "      <td>7/16/2015</td>\n",
       "      <td>2015</td>\n",
       "    </tr>\n",
       "    <tr>\n",
       "      <th>25</th>\n",
       "      <td>Charleston, South Carolina</td>\n",
       "      <td>6/17/2015</td>\n",
       "      <td>2015</td>\n",
       "    </tr>\n",
       "    <tr>\n",
       "      <th>26</th>\n",
       "      <td>Menasha, Wisconsin</td>\n",
       "      <td>6/11/2015</td>\n",
       "      <td>2015</td>\n",
       "    </tr>\n",
       "    <tr>\n",
       "      <th>27</th>\n",
       "      <td>Marysville, Washington</td>\n",
       "      <td>10/24/2014</td>\n",
       "      <td>2014</td>\n",
       "    </tr>\n",
       "    <tr>\n",
       "      <th>28</th>\n",
       "      <td>Santa Barbara, California</td>\n",
       "      <td>5/23/2014</td>\n",
       "      <td>2014</td>\n",
       "    </tr>\n",
       "    <tr>\n",
       "      <th>29</th>\n",
       "      <td>Fort Hood, Texas</td>\n",
       "      <td>4/3/2014</td>\n",
       "      <td>2014</td>\n",
       "    </tr>\n",
       "    <tr>\n",
       "      <th>...</th>\n",
       "      <td>...</td>\n",
       "      <td>...</td>\n",
       "      <td>...</td>\n",
       "    </tr>\n",
       "    <tr>\n",
       "      <th>68</th>\n",
       "      <td>Honolulu, Hawaii</td>\n",
       "      <td>11/2/1999</td>\n",
       "      <td>1999</td>\n",
       "    </tr>\n",
       "    <tr>\n",
       "      <th>69</th>\n",
       "      <td>Fort Worth, Texas</td>\n",
       "      <td>9/15/1999</td>\n",
       "      <td>1999</td>\n",
       "    </tr>\n",
       "    <tr>\n",
       "      <th>70</th>\n",
       "      <td>Atlanta, Georgia</td>\n",
       "      <td>7/29/1999</td>\n",
       "      <td>1999</td>\n",
       "    </tr>\n",
       "    <tr>\n",
       "      <th>71</th>\n",
       "      <td>Littleton, Colorado</td>\n",
       "      <td>4/20/1999</td>\n",
       "      <td>1999</td>\n",
       "    </tr>\n",
       "    <tr>\n",
       "      <th>72</th>\n",
       "      <td>Springfield, Oregon</td>\n",
       "      <td>5/21/1998</td>\n",
       "      <td>1998</td>\n",
       "    </tr>\n",
       "    <tr>\n",
       "      <th>73</th>\n",
       "      <td>Jonesboro, Arkansas</td>\n",
       "      <td>3/24/1998</td>\n",
       "      <td>1998</td>\n",
       "    </tr>\n",
       "    <tr>\n",
       "      <th>74</th>\n",
       "      <td>Newington, Connecticut</td>\n",
       "      <td>3/6/1998</td>\n",
       "      <td>1998</td>\n",
       "    </tr>\n",
       "    <tr>\n",
       "      <th>75</th>\n",
       "      <td>Orange, California</td>\n",
       "      <td>12/18/1997</td>\n",
       "      <td>1997</td>\n",
       "    </tr>\n",
       "    <tr>\n",
       "      <th>76</th>\n",
       "      <td>Aiken, South Carolina</td>\n",
       "      <td>9/15/1997</td>\n",
       "      <td>1997</td>\n",
       "    </tr>\n",
       "    <tr>\n",
       "      <th>77</th>\n",
       "      <td>Fort Lauderdale, Florida</td>\n",
       "      <td>2/9/1996</td>\n",
       "      <td>1996</td>\n",
       "    </tr>\n",
       "    <tr>\n",
       "      <th>78</th>\n",
       "      <td>Corpus Christi, Texas</td>\n",
       "      <td>4/3/1995</td>\n",
       "      <td>1995</td>\n",
       "    </tr>\n",
       "    <tr>\n",
       "      <th>79</th>\n",
       "      <td>Fairchild Air Force Base, Washington</td>\n",
       "      <td>6/20/1994</td>\n",
       "      <td>1994</td>\n",
       "    </tr>\n",
       "    <tr>\n",
       "      <th>80</th>\n",
       "      <td>Aurora, Colorado</td>\n",
       "      <td>12/14/1993</td>\n",
       "      <td>1993</td>\n",
       "    </tr>\n",
       "    <tr>\n",
       "      <th>81</th>\n",
       "      <td>Garden City, New York</td>\n",
       "      <td>12/7/1993</td>\n",
       "      <td>1993</td>\n",
       "    </tr>\n",
       "    <tr>\n",
       "      <th>82</th>\n",
       "      <td>Fayetteville, North Carolina</td>\n",
       "      <td>8/6/1993</td>\n",
       "      <td>1993</td>\n",
       "    </tr>\n",
       "    <tr>\n",
       "      <th>83</th>\n",
       "      <td>San Francisco, California</td>\n",
       "      <td>7/1/1993</td>\n",
       "      <td>1993</td>\n",
       "    </tr>\n",
       "    <tr>\n",
       "      <th>84</th>\n",
       "      <td>Watkins Glen, New York</td>\n",
       "      <td>10/15/1992</td>\n",
       "      <td>1992</td>\n",
       "    </tr>\n",
       "    <tr>\n",
       "      <th>85</th>\n",
       "      <td>Olivehurst, California</td>\n",
       "      <td>5/1/1992</td>\n",
       "      <td>1992</td>\n",
       "    </tr>\n",
       "    <tr>\n",
       "      <th>86</th>\n",
       "      <td>Royal Oak, Michigan</td>\n",
       "      <td>11/14/1991</td>\n",
       "      <td>1991</td>\n",
       "    </tr>\n",
       "    <tr>\n",
       "      <th>87</th>\n",
       "      <td>Iowa City, Iowa</td>\n",
       "      <td>11/1/1991</td>\n",
       "      <td>1991</td>\n",
       "    </tr>\n",
       "    <tr>\n",
       "      <th>88</th>\n",
       "      <td>Killeen, Texas</td>\n",
       "      <td>10/16/1991</td>\n",
       "      <td>1991</td>\n",
       "    </tr>\n",
       "    <tr>\n",
       "      <th>89</th>\n",
       "      <td>Jacksonville, Florida</td>\n",
       "      <td>6/18/1990</td>\n",
       "      <td>1990</td>\n",
       "    </tr>\n",
       "    <tr>\n",
       "      <th>90</th>\n",
       "      <td>Louisville, Kentucky</td>\n",
       "      <td>9/14/1989</td>\n",
       "      <td>1989</td>\n",
       "    </tr>\n",
       "    <tr>\n",
       "      <th>91</th>\n",
       "      <td>Stockton, California</td>\n",
       "      <td>1/17/1989</td>\n",
       "      <td>1989</td>\n",
       "    </tr>\n",
       "    <tr>\n",
       "      <th>92</th>\n",
       "      <td>Sunnyvale, California</td>\n",
       "      <td>2/16/1988</td>\n",
       "      <td>1988</td>\n",
       "    </tr>\n",
       "    <tr>\n",
       "      <th>93</th>\n",
       "      <td>Palm Bay, Florida</td>\n",
       "      <td>4/23/1987</td>\n",
       "      <td>1987</td>\n",
       "    </tr>\n",
       "    <tr>\n",
       "      <th>94</th>\n",
       "      <td>Edmond, Oklahoma</td>\n",
       "      <td>8/20/1986</td>\n",
       "      <td>1986</td>\n",
       "    </tr>\n",
       "    <tr>\n",
       "      <th>95</th>\n",
       "      <td>San Ysidro, California</td>\n",
       "      <td>7/18/1984</td>\n",
       "      <td>1984</td>\n",
       "    </tr>\n",
       "    <tr>\n",
       "      <th>96</th>\n",
       "      <td>Dallas, Texas</td>\n",
       "      <td>6/29/1984</td>\n",
       "      <td>1984</td>\n",
       "    </tr>\n",
       "    <tr>\n",
       "      <th>97</th>\n",
       "      <td>Miami, Florida</td>\n",
       "      <td>8/20/1982</td>\n",
       "      <td>1982</td>\n",
       "    </tr>\n",
       "  </tbody>\n",
       "</table>\n",
       "<p>98 rows × 3 columns</p>\n",
       "</div>"
      ],
      "text/plain": [
       "                                Location        Date  Year\n",
       "0                         Yountville, CA      3/9/18  2018\n",
       "1                      Parkland, Florida     2/14/18  2018\n",
       "2                           Melcroft, PA     1/28/18  2018\n",
       "3                      Rancho Tehama, CA    11/14/17  2017\n",
       "4                 Sutherland Springs, TX     11/5/17  2017\n",
       "5                           Thornton, CO     11/1/17  2017\n",
       "6                           Edgewood, MD    10/18/17  2017\n",
       "7                          Las Vegas, NV     10/1/17  2017\n",
       "8                      San Francisco, CA     6/14/17  2017\n",
       "9                        Tunkhannock, PA      6/7/17  2017\n",
       "10                      Orlando, Florida    6/5/2017  2017\n",
       "11                    Kirkersville, Ohio   5/12/2017  2017\n",
       "12                    Fresno, California   4/18/2017  2017\n",
       "13              Fort Lauderdale, Florida    1/6/2017  2017\n",
       "14                        Burlington, WA   9/23/2016  2016\n",
       "15                       Baton Rouge, LA   7/17/2016  2016\n",
       "16                         Dallas, Texas    7/7/2016  2016\n",
       "17                      Orlando, Florida   6/12/2016  2016\n",
       "18                       Hesston, Kansas   2/25/2016  2016\n",
       "19            Kalamazoo County, Michigan   2/20/2016  2016\n",
       "20            San Bernardino, California   12/2/2015  2015\n",
       "21            Colorado Springs, Colorado  11/27/2015  2015\n",
       "22            Colorado Springs, Colorado  10/31/2015  2015\n",
       "23                      Roseburg, Oregon   10/1/2015  2015\n",
       "24                Chattanooga, Tennessee   7/16/2015  2015\n",
       "25            Charleston, South Carolina   6/17/2015  2015\n",
       "26                    Menasha, Wisconsin   6/11/2015  2015\n",
       "27                Marysville, Washington  10/24/2014  2014\n",
       "28             Santa Barbara, California   5/23/2014  2014\n",
       "29                      Fort Hood, Texas    4/3/2014  2014\n",
       "..                                   ...         ...   ...\n",
       "68                      Honolulu, Hawaii   11/2/1999  1999\n",
       "69                     Fort Worth, Texas   9/15/1999  1999\n",
       "70                      Atlanta, Georgia   7/29/1999  1999\n",
       "71                   Littleton, Colorado   4/20/1999  1999\n",
       "72                   Springfield, Oregon   5/21/1998  1998\n",
       "73                   Jonesboro, Arkansas   3/24/1998  1998\n",
       "74                Newington, Connecticut    3/6/1998  1998\n",
       "75                    Orange, California  12/18/1997  1997\n",
       "76                 Aiken, South Carolina   9/15/1997  1997\n",
       "77              Fort Lauderdale, Florida    2/9/1996  1996\n",
       "78                 Corpus Christi, Texas    4/3/1995  1995\n",
       "79  Fairchild Air Force Base, Washington   6/20/1994  1994\n",
       "80                      Aurora, Colorado  12/14/1993  1993\n",
       "81                 Garden City, New York   12/7/1993  1993\n",
       "82          Fayetteville, North Carolina    8/6/1993  1993\n",
       "83             San Francisco, California    7/1/1993  1993\n",
       "84                Watkins Glen, New York  10/15/1992  1992\n",
       "85                Olivehurst, California    5/1/1992  1992\n",
       "86                   Royal Oak, Michigan  11/14/1991  1991\n",
       "87                       Iowa City, Iowa   11/1/1991  1991\n",
       "88                        Killeen, Texas  10/16/1991  1991\n",
       "89                 Jacksonville, Florida   6/18/1990  1990\n",
       "90                  Louisville, Kentucky   9/14/1989  1989\n",
       "91                  Stockton, California   1/17/1989  1989\n",
       "92                 Sunnyvale, California   2/16/1988  1988\n",
       "93                     Palm Bay, Florida   4/23/1987  1987\n",
       "94                      Edmond, Oklahoma   8/20/1986  1986\n",
       "95                San Ysidro, California   7/18/1984  1984\n",
       "96                         Dallas, Texas   6/29/1984  1984\n",
       "97                        Miami, Florida   8/20/1982  1982\n",
       "\n",
       "[98 rows x 3 columns]"
      ]
     },
     "execution_count": 359,
     "metadata": {},
     "output_type": "execute_result"
    }
   ],
   "source": [
    "df_shootings"
   ]
  },
  {
   "cell_type": "code",
   "execution_count": 361,
   "metadata": {},
   "outputs": [
    {
     "name": "stdout",
     "output_type": "stream",
     "text": [
      "Yountville, CA\n",
      "Parkland, Florida\n",
      "Melcroft, PA\n",
      "Rancho Tehama, CA\n",
      "Sutherland Springs, TX\n",
      "Thornton, CO\n",
      "Edgewood, MD\n",
      "Las Vegas, NV\n",
      "San Francisco, CA\n",
      "Tunkhannock, PA\n",
      "Orlando, Florida\n",
      "Kirkersville, Ohio\n",
      "Fresno, California\n",
      "Fort Lauderdale, Florida\n",
      "Burlington, WA\n",
      "Baton Rouge, LA\n",
      "Dallas, Texas\n",
      "Orlando, Florida\n",
      "Hesston, Kansas\n",
      "Kalamazoo County, Michigan\n",
      "San Bernardino, California\n",
      "Colorado Springs, Colorado\n",
      "Colorado Springs, Colorado\n",
      "Roseburg, Oregon\n",
      "Chattanooga, Tennessee\n",
      "Charleston, South Carolina\n",
      "Menasha, Wisconsin\n",
      "Marysville, Washington\n",
      "Santa Barbara, California\n",
      "Fort Hood, Texas\n",
      "Alturas, California\n",
      "Washington, D.C.\n",
      "Hialeah, Florida\n",
      "Santa Monica, California\n",
      "Federal Way, Washington\n",
      "Herkimer County, New York\n",
      "Newtown, Connecticut\n",
      "Minneapolis, Minnesota\n",
      "Oak Creek, Wisconsin\n",
      "Aurora, Colorado\n",
      "Seattle, Washington\n",
      "Oakland, California\n",
      "Norcross, Georgia\n",
      "Seal Beach, California\n",
      "Carson City, Nevada\n",
      "Tucson, Arizona\n",
      "Manchester, Connecticut\n",
      "Parkland, Washington\n",
      "Fort Hood, Texas\n",
      "Binghamton, New York\n",
      "Carthage, North Carolina\n",
      "Henderson, Kentucky\n",
      "DeKalb, Illinois\n",
      "Kirkwood, Missouri\n",
      "Omaha, Nebraska\n",
      "Crandon, Wisconsin\n",
      "Blacksburg, Virginia\n",
      "Salt Lake City, Utah\n",
      "Lancaster County, Pennsylvania\n",
      "Seattle, Washington\n",
      "Goleta, California\n",
      "Red Lake, Minnesota\n",
      "Brookfield, Wisconsin\n",
      "Columbus, Ohio\n",
      "Meridian, Mississippi\n",
      "Melrose Park, Illinois\n",
      "Wakefield, Massachusetts\n",
      "Tampa, Florida\n",
      "Honolulu, Hawaii\n",
      "Fort Worth, Texas\n",
      "Atlanta, Georgia\n",
      "Littleton, Colorado\n",
      "Springfield, Oregon\n",
      "Jonesboro, Arkansas\n",
      "Newington, Connecticut\n",
      "Orange, California\n",
      "Aiken, South Carolina\n",
      "Fort Lauderdale, Florida\n",
      "Corpus Christi, Texas\n",
      "Fairchild Air Force Base, Washington\n",
      "Aurora, Colorado\n",
      "Garden City, New York\n",
      "Fayetteville, North Carolina\n",
      "San Francisco, California\n",
      "Watkins Glen, New York\n",
      "Olivehurst, California\n",
      "Royal Oak, Michigan\n",
      "Iowa City, Iowa\n",
      "Killeen, Texas\n",
      "Jacksonville, Florida\n",
      "Louisville, Kentucky\n",
      "Stockton, California\n",
      "Sunnyvale, California\n",
      "Palm Bay, Florida\n",
      "Edmond, Oklahoma\n",
      "San Ysidro, California\n",
      "Dallas, Texas\n",
      "Miami, Florida\n"
     ]
    }
   ],
   "source": [
    "for i, row in df_shootings.iterrows():\n",
    "    if row[0]"
   ]
  },
  {
   "cell_type": "code",
   "execution_count": null,
   "metadata": {
    "collapsed": true
   },
   "outputs": [],
   "source": []
  }
 ],
 "metadata": {
  "kernelspec": {
   "display_name": "Python 3",
   "language": "python",
   "name": "python3"
  },
  "language_info": {
   "codemirror_mode": {
    "name": "ipython",
    "version": 3
   },
   "file_extension": ".py",
   "mimetype": "text/x-python",
   "name": "python",
   "nbconvert_exporter": "python",
   "pygments_lexer": "ipython3",
   "version": "3.6.3"
  }
 },
 "nbformat": 4,
 "nbformat_minor": 2
}

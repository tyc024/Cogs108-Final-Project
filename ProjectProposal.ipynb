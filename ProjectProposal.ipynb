{
 "cells": [
  {
   "cell_type": "markdown",
   "metadata": {},
   "source": [
    "# COGS 108 - Project Proposal"
   ]
  },
  {
   "cell_type": "markdown",
   "metadata": {},
   "source": [
    "## Important\n",
    "\n",
    "- Make sure all group members (3-5 people) are listed in the group members section.\n",
    "- ONE, and only one, member of your group should upload this notebook to TritonED. \n",
    "- Each member of the group will receive the same grade on this assignment. \n",
    "- Keep the file name the same: submit the file 'ProjectProposal.ipynb'"
   ]
  },
  {
   "cell_type": "markdown",
   "metadata": {},
   "source": [
    "## Overview"
   ]
  },
  {
   "cell_type": "markdown",
   "metadata": {},
   "source": [
    "Read the project description and detailed instructions for this assignment in the 'ProjectOutline' document."
   ]
  },
  {
   "cell_type": "markdown",
   "metadata": {},
   "source": [
    "## Group Members: Fill in the Student IDs of each group member here\n",
    "\n",
    "Replace the lines below to list each persons full student ID. Add lines as needed for your group size, and make sure each ID is listed on a separate line. \n",
    "\n",
    "- A14124203\n",
    "- A14203076\n",
    "- A12458661\n",
    "- A12721216\n",
    "- A14190096"
   ]
  },
  {
   "cell_type": "markdown",
   "metadata": {},
   "source": [
    "### Research Question\n",
    "\n",
    "What is your research question? (1-2 sentences)"
   ]
  },
  {
   "cell_type": "markdown",
   "metadata": {},
   "source": [
    "Are shootings more likely to happen in states with the top 10% of most background checks done on permits and handguns over the last 10 years?"
   ]
  },
  {
   "cell_type": "markdown",
   "metadata": {},
   "source": [
    "### Hypothesis\n",
    "\n",
    "What is your main hypothesis and predictions? (2-3 sentences)"
   ]
  },
  {
   "cell_type": "markdown",
   "metadata": {},
   "source": [
    "Shootings are more likely to happen in states that are in the top 10% of most background checks done."
   ]
  },
  {
   "cell_type": "markdown",
   "metadata": {},
   "source": [
    "### Dataset(s)\n",
    "\n",
    "What data will you use to answer your question? Describe the dataset(s) in terms of number of observations, what kind of features it contains, etc. You must use at least one dataset containing at least approximately 1000 observations (if your data are smaller but you feel they are sufficient, email Prof. Voytek). You are welcome (and in fact recommended) to find multiple datasets! If you do so, describe each one, and briefly explain how you will combine them together. "
   ]
  },
  {
   "cell_type": "markdown",
   "metadata": {},
   "source": [
    "1)\n",
    "- Dataset Name: NICS monthly figures on background checks for gun buyers\n",
    "- Link to the dataset: https://github.com/BuzzFeedNews/2017-11-gun-sales-estimates/blob/master/data/nics-firearm-background-checks.csv\n",
    "- Number of observations: 12541\n",
    "- This dataset contains monthly figures of the total number of background checks done based on certain item, ex. permits, handguns, long guns, etc. The dataset is also based on a month to month basis by state.\n",
    "\n",
    "2. \n",
    "- Dataset Name: List of shootings\n",
    "- Link to the dataset: https://github.com/BuzzFeedNews/2017-11-gun-sales-estimates/blob/master/data/shootings.csv\n",
    "- Number of observations: 93\n",
    "- This dataset contains all the shootings that took place in the US, has location, date, and summary for our use.\n",
    "\n",
    "We will do majority of our analysis with the first dataset, after taking the estimates, we will use the second dataset to cross reference and compare our results.\n"
   ]
  },
  {
   "cell_type": "markdown",
   "metadata": {},
   "source": [
    "### Background and Prior Work\n",
    "\n",
    "Why is this question of interest, what background information led you to your hypothesis, and why is this important?\n",
    "\n",
    "Find some relevant prior work, and reference those sources. Even if you think you have a totally novel question, find the most similar prior work that you can and discuss how it relates to your project. \n",
    "\n",
    "References can be research publications, but they need not be. Blogs, github repositories, company websites, etc., are all viable references if they are relevant to your project.\n",
    "\n",
    "(2-3 paragraphs, including at least 2 references)"
   ]
  },
  {
   "cell_type": "markdown",
   "metadata": {},
   "source": [
    "This is a question of interest because annual shootings in America has become quite common, expected and a pattern. Many questions have been raised to what proper solutions could address the shooting of innocence and although we ourselves may not be able to address the issue directly, we hope to derive information from the data to tell us whether there is a correlation to the issue if the solution gets implemented. There were 372 mass shootings in the US in 2015, killing 475 people and wounding 1,870, according to the Mass Shooting Tracker. The existing problem of mass shooting comes from the loopholes in federal firearms laws of background checking, which requires licensed firearms dealers to sell guns but not unlicensed sellers. \n",
    "\n",
    "According to Firearm Acquisition Without Background Checks more than half of Americans acquired firearms with background checks, that is why we choose to investigate the correlation between background checks and shootings by states. The first reference is an article about the correlations between background checks and shootings. Research shows that there was a 40 percent decline in shooting when Connecticut implemented background checks on firearms. However, if we can see a correlation between states with most background checks to shooting, we can rebuke the study that background checks can make huge impacts on shootings at all. \n",
    "\n",
    "\n",
    "References (include links):\n",
    "- 1) https://www.npr.org/2016/01/09/462252799/research-suggests-gun-background-checks-work-but-theyre-not-everything\n",
    "- 2) http://www.bbc.com/news/world-us-canada-34996604\n",
    "- 3) http://lawcenter.giffords.org/gun-laws/policy-areas/background-checks/universal-background-checks/\n",
    "- 4) https://www.cnn.com/2017/10/03/americas/us-gun-statistics/index.html\n"
   ]
  },
  {
   "cell_type": "markdown",
   "metadata": {},
   "source": [
    "### Proposed Methods\n",
    "\n",
    "What methods will you use to analyze your data?\n",
    "\n",
    "- How 'clean' is the data? To the extent that it requires cleaning, how will you do so?\n",
    "- How will you analyze the data? Be as specific as you can. Briefly mention any pre-processing steps that are required for your methods (for example, checking data distributions and performing any transformations that may be required). Include a brief outline of how you will apply your chosen method(s). \n",
    "- What do you plan to report? Briefly mention any key visualizations you plan to create, and/or the kind of results you will be able to report that address your question (this could be, for example, the outcome of some statistical test(s), prediction error on a model, a model fit parameter, etc.).\n",
    "- Include a list of packages you expect to use for you project. If you plan to use packages we have not used in class, add a very brief description about them (a few words is sufficient). "
   ]
  },
  {
   "cell_type": "markdown",
   "metadata": {},
   "source": [
    "Data Cleaning: The first dataset will need to be cleaned of the columns we don’t need, will mainly focus on a couple columns, date, state, permits, and handgun permits. Also will need to filter out the dataset to be only the last 10 years.\n",
    "\n",
    "Data Analysis: some preprocessing steps that will need to take place is to bucket our data into years, and then put them into a list of states. Will also need to make sure all our data has a correct value and properly cover up values that might sway the statistic we are trying to test.\n",
    "\n",
    "What to report: We will show the statistics every year how background checks related to permits and handguns trend with the past shootings. Also see how the number of background checks for permits and handgun increase every year, if they are affected by recent shootings.\n",
    "\n",
    "Packages we plan to use:\n",
    "- a) Pandas\n",
    "- b) Numpy"
   ]
  },
  {
   "cell_type": "markdown",
   "metadata": {},
   "source": [
    "### Ethics and Privacy\n",
    "\n",
    "Briefly acknowledge and address any potential issues of ethics and privacy for the proposed project. In particular:\n",
    "- Do you have permission to use this data, for this purpose?\n",
    "- Are there privacy concerns regarding your datasets that you need to deal with, and/or terms of use that you need to comply with?\n",
    "- Are there potential biases in your dataset(s), in terms of who it composes, and how it was collected, that may be problematic in terms of it allowing for equitable analysis? (For example, does your data exclude particular populations, or is it likely to reflect particular human biases in a way that could be a problem?) \n",
    "- Are there any other issues related to your topic area, data, and/or analyses that are potentially problematic in terms of data privacy and equitable impact?\n",
    "- How will you handle any issues you identify?\n",
    "\n",
    "- 1) To protect people’s privacy, we must remove any personal information if included in the data sets such as names, phone numbers, age, IP address, and so on.\n",
    "- 2) Because there a shooting has occurred recently in a Florida high school, we must be sensitive and be compassionate towards the victims and their families. "
   ]
  },
  {
   "cell_type": "markdown",
   "metadata": {},
   "source": [
    "### Discussion\n",
    "\n",
    "Discuss your project, looking forward to what your results might mean, how they fit it in with what is already known, and what problems you may encounter. \n",
    "\n",
    "In particular:\n",
    "- If your analyses and hypotheses are correct, what will be the contribution of this project to the topic domain? \n",
    "- Alternatively, what will you do if you methods don't work and/or your hypotheses are wrong? \n",
    "- What are the potential pitfalls and potential confounds of your data and/or methods that may cause problems, and/or influence your interpretations?\n",
    "\n",
    "(2-3 paragraphs)"
   ]
  },
  {
   "cell_type": "markdown",
   "metadata": {},
   "source": [
    "With the mass shootings in Las Vegas and Florida high school issues, we want to know if there is a correlation between the number of mass shootings and how much handguns are sold. Although gun control is a  sensitive political issue, regardless of which party one supports the Democratic or Republican party, as a society, both parties are in favor of having less shooting incidences. "
   ]
  },
  {
   "cell_type": "code",
   "execution_count": null,
   "metadata": {
    "collapsed": true
   },
   "outputs": [],
   "source": []
  }
 ],
 "metadata": {
  "kernelspec": {
   "display_name": "Python 3",
   "language": "python",
   "name": "python3"
  },
  "language_info": {
   "codemirror_mode": {
    "name": "ipython",
    "version": 3
   },
   "file_extension": ".py",
   "mimetype": "text/x-python",
   "name": "python",
   "nbconvert_exporter": "python",
   "pygments_lexer": "ipython3",
   "version": "3.6.3"
  }
 },
 "nbformat": 4,
 "nbformat_minor": 2
}
